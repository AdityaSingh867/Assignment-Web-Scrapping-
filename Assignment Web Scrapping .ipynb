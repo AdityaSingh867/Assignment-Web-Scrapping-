{
 "cells": [
  {
   "cell_type": "markdown",
   "id": "454552ee-8b93-4dba-af4c-a681257ff3ab",
   "metadata": {},
   "source": [
    "Q1. What is Web Scraping? Why is it Used? Give three areas where Web Scraping is used to get data."
   ]
  },
  {
   "cell_type": "markdown",
   "id": "5e618609-17a2-4379-9011-c16ad5340737",
   "metadata": {},
   "source": [
    "Ans -- \n",
    "\n",
    "Web Scraping is a way to obtain large amount of data for website.\n",
    "\n",
    "WEb Scaping is used for extract data from the website.\n",
    "\n",
    "enriching machine learning models, financial data aggregation, news tracking,"
   ]
  },
  {
   "cell_type": "markdown",
   "id": "3db41969-0669-418d-aead-a45516939185",
   "metadata": {},
   "source": [
    "Q2. What are the different methods used for Web Scraping?"
   ]
  },
  {
   "cell_type": "markdown",
   "id": "3c6486da-c0b8-4058-a442-a05a4c3e7af0",
   "metadata": {},
   "source": [
    "HTTP programming. HTML parsing\n",
    "\n",
    "Human copy-and-paste\n",
    "\n",
    "Text pattern matching"
   ]
  },
  {
   "cell_type": "markdown",
   "id": "f800351a-d787-4247-ae5a-a2707bf9a424",
   "metadata": {},
   "source": [
    "Q3. What is Beautiful Soup? Why is it used?"
   ]
  },
  {
   "cell_type": "markdown",
   "id": "1f49ff20-85a9-4136-b2b7-91b1d00a21c6",
   "metadata": {},
   "source": [
    "Beautiful Soup is a Python library designed for quick turnaround projects like screen-scraping."
   ]
  },
  {
   "cell_type": "markdown",
   "id": "753580a2-2d94-4d14-82e3-f0771dd11c07",
   "metadata": {},
   "source": [
    "Beautiful soup is used for extract rough html and other type of code in simple manner  so , Beautiful soup is used for beautify the code."
   ]
  },
  {
   "cell_type": "markdown",
   "id": "6428fcae-1928-453f-8944-330d5dab5808",
   "metadata": {},
   "source": [
    "Q4. Why is flask used in this Web Scraping project?"
   ]
  },
  {
   "cell_type": "markdown",
   "id": "dcaadfe7-654c-4a6e-b83d-a9e956f8864e",
   "metadata": {},
   "source": [
    "Flask is a lightweight framework to build websites. We'll use this to parse our collected data and display it as HTML in a new HTML file."
   ]
  },
  {
   "cell_type": "markdown",
   "id": "81a394d4-7a89-4457-a5fd-cc820fc8a4c9",
   "metadata": {},
   "source": [
    "Q5. Write the names of AWS services used in this project. Also, explain the use of each service."
   ]
  },
  {
   "cell_type": "markdown",
   "id": "03f8923d-627c-4919-8b2a-b6b011e29204",
   "metadata": {},
   "source": [
    "Amazon EC2 (Elastic Cloud computing)  ------  Amazon Elastic Compute Cloud (Amazon EC2) is a web service that provides secure, resizable compute capacity in the cloud.\n",
    "\n",
    "Amazon RDS (Relational Database Services) ------  Amazon RDS supports an array of database engines to store and organize data.\n",
    "\n",
    "Amazon S3 (Simple Storage Service) ------  store and retrieve any amount of data from anywhere.\n",
    "\n",
    "Amazon Lambda ------  that runs your code in response to events and automatically manages the underlying compute resources for you.\n"
   ]
  },
  {
   "cell_type": "code",
   "execution_count": null,
   "id": "c01ff0a1-ad0b-4aea-ab82-f3c2c4f0f545",
   "metadata": {},
   "outputs": [],
   "source": []
  }
 ],
 "metadata": {
  "kernelspec": {
   "display_name": "Python 3 (ipykernel)",
   "language": "python",
   "name": "python3"
  },
  "language_info": {
   "codemirror_mode": {
    "name": "ipython",
    "version": 3
   },
   "file_extension": ".py",
   "mimetype": "text/x-python",
   "name": "python",
   "nbconvert_exporter": "python",
   "pygments_lexer": "ipython3",
   "version": "3.10.8"
  }
 },
 "nbformat": 4,
 "nbformat_minor": 5
}
